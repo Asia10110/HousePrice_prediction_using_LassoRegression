{
 "cells": [
  {
   "cell_type": "code",
   "execution_count": 1,
   "id": "9deac2f5",
   "metadata": {
    "_cell_guid": "b1076dfc-b9ad-4769-8c92-a6c4dae69d19",
    "_uuid": "8f2839f25d086af736a60e9eeb907d3b93b6e0e5",
    "execution": {
     "iopub.execute_input": "2024-01-12T06:11:45.785756Z",
     "iopub.status.busy": "2024-01-12T06:11:45.785303Z",
     "iopub.status.idle": "2024-01-12T06:11:48.826998Z",
     "shell.execute_reply": "2024-01-12T06:11:48.825732Z"
    },
    "papermill": {
     "duration": 3.052955,
     "end_time": "2024-01-12T06:11:48.830116",
     "exception": false,
     "start_time": "2024-01-12T06:11:45.777161",
     "status": "completed"
    },
    "tags": []
   },
   "outputs": [
    {
     "name": "stdout",
     "output_type": "stream",
     "text": [
      "/kaggle/input/adv-house-price/sample_submission.csv\n",
      "/kaggle/input/adv-house-price/data_description.txt\n",
      "/kaggle/input/adv-house-price/train.csv\n",
      "/kaggle/input/adv-house-price/test.csv\n"
     ]
    }
   ],
   "source": [
    "# This Python 3 environment comes with many helpful analytics libraries installed\n",
    "# It is defined by the kaggle/python Docker image: https://github.com/kaggle/docker-python\n",
    "# For example, here's several helpful packages to load\n",
    "\n",
    "import numpy as np # linear algebra\n",
    "import pandas as pd # data processing, CSV file I/O (e.g. pd.read_csv)\n",
    "import matplotlib.pyplot as plt\n",
    "import seaborn as sns\n",
    "from sklearn.linear_model import LinearRegression\n",
    "from sklearn.model_selection import train_test_split\n",
    "from sklearn.metrics import mean_squared_error, r2_score\n",
    "from sklearn.linear_model import Lasso\n",
    "from sklearn.preprocessing import RobustScaler\n",
    "# Input data files are available in the read-only \"../input/\" directory\n",
    "# For example, running this (by clicking run or pressing Shift+Enter) will list all files under the input directory\n",
    "\n",
    "import os\n",
    "for dirname, _, filenames in os.walk('/kaggle/input'):\n",
    "    for filename in filenames:\n",
    "        print(os.path.join(dirname, filename))\n",
    "\n",
    "# You can write up to 20GB to the current directory (/kaggle/working/) that gets preserved as output when you create a version using \"Save & Run All\" \n",
    "# You can also write temporary files to /kaggle/temp/, but they won't be saved outside of the current session"
   ]
  },
  {
   "cell_type": "code",
   "execution_count": 2,
   "id": "7901a96e",
   "metadata": {
    "execution": {
     "iopub.execute_input": "2024-01-12T06:11:48.845313Z",
     "iopub.status.busy": "2024-01-12T06:11:48.844286Z",
     "iopub.status.idle": "2024-01-12T06:11:48.936082Z",
     "shell.execute_reply": "2024-01-12T06:11:48.934953Z"
    },
    "papermill": {
     "duration": 0.102175,
     "end_time": "2024-01-12T06:11:48.939072",
     "exception": false,
     "start_time": "2024-01-12T06:11:48.836897",
     "status": "completed"
    },
    "tags": []
   },
   "outputs": [],
   "source": [
    "df = pd.read_csv(\"/kaggle/input/adv-house-price/train.csv\")\n",
    "test = pd.read_csv(\"/kaggle/input/adv-house-price/test.csv\")"
   ]
  },
  {
   "cell_type": "code",
   "execution_count": 3,
   "id": "0c00badd",
   "metadata": {
    "execution": {
     "iopub.execute_input": "2024-01-12T06:11:48.953187Z",
     "iopub.status.busy": "2024-01-12T06:11:48.952759Z",
     "iopub.status.idle": "2024-01-12T06:11:48.970029Z",
     "shell.execute_reply": "2024-01-12T06:11:48.968753Z"
    },
    "papermill": {
     "duration": 0.02767,
     "end_time": "2024-01-12T06:11:48.972929",
     "exception": false,
     "start_time": "2024-01-12T06:11:48.945259",
     "status": "completed"
    },
    "tags": []
   },
   "outputs": [],
   "source": [
    "#Dealing with object value (Data Cleaning)\n",
    "#Assumtion price: C>FV>RH>RM>RL (C is NaN)\n",
    "#Mapping value to each object in ascending order\n",
    "mapping1 = {'FV':4, 'RH':3, 'RM':2, 'RL':1, 'C (all)':5}\n",
    "df['MSZoning'] = df['MSZoning'].replace(mapping1)"
   ]
  },
  {
   "cell_type": "code",
   "execution_count": 4,
   "id": "c68fb463",
   "metadata": {
    "execution": {
     "iopub.execute_input": "2024-01-12T06:11:48.987281Z",
     "iopub.status.busy": "2024-01-12T06:11:48.986888Z",
     "iopub.status.idle": "2024-01-12T06:11:48.994978Z",
     "shell.execute_reply": "2024-01-12T06:11:48.994088Z"
    },
    "papermill": {
     "duration": 0.018401,
     "end_time": "2024-01-12T06:11:48.997487",
     "exception": false,
     "start_time": "2024-01-12T06:11:48.979086",
     "status": "completed"
    },
    "tags": []
   },
   "outputs": [],
   "source": [
    "#LotFrontage have NaN value we will replace with mean value\n",
    "# Replace NaN values in a specific column with the mean value of that column\n",
    "df['LotFrontage'].fillna(df['LotFrontage'].mean(), inplace=True)"
   ]
  },
  {
   "cell_type": "code",
   "execution_count": 5,
   "id": "20364579",
   "metadata": {
    "execution": {
     "iopub.execute_input": "2024-01-12T06:11:49.011861Z",
     "iopub.status.busy": "2024-01-12T06:11:49.011107Z",
     "iopub.status.idle": "2024-01-12T06:11:49.024573Z",
     "shell.execute_reply": "2024-01-12T06:11:49.023304Z"
    },
    "papermill": {
     "duration": 0.023493,
     "end_time": "2024-01-12T06:11:49.027045",
     "exception": false,
     "start_time": "2024-01-12T06:11:49.003552",
     "status": "completed"
    },
    "tags": []
   },
   "outputs": [
    {
     "data": {
      "text/plain": [
       "0       3\n",
       "1       3\n",
       "2       3\n",
       "3       3\n",
       "4       3\n",
       "       ..\n",
       "1455    3\n",
       "1456    3\n",
       "1457    3\n",
       "1458    3\n",
       "1459    3\n",
       "Name: Street, Length: 1460, dtype: int64"
      ]
     },
     "execution_count": 5,
     "metadata": {},
     "output_type": "execute_result"
    }
   ],
   "source": [
    "#Street data are contain ['Pave', 'Grvl'] we check mean of each street so that I'll replace with 1 and 2\n",
    "#Price: Pave>Grvl\n",
    "mapping2 = {'Pave':3, 'Grvl':1}\n",
    "df['Street'] = df['Street'].replace(mapping2)\n",
    "df['Street']"
   ]
  },
  {
   "cell_type": "code",
   "execution_count": 6,
   "id": "2ae939d0",
   "metadata": {
    "execution": {
     "iopub.execute_input": "2024-01-12T06:11:49.041793Z",
     "iopub.status.busy": "2024-01-12T06:11:49.041099Z",
     "iopub.status.idle": "2024-01-12T06:11:49.053577Z",
     "shell.execute_reply": "2024-01-12T06:11:49.052402Z"
    },
    "papermill": {
     "duration": 0.022789,
     "end_time": "2024-01-12T06:11:49.056010",
     "exception": false,
     "start_time": "2024-01-12T06:11:49.033221",
     "status": "completed"
    },
    "tags": []
   },
   "outputs": [
    {
     "data": {
      "text/plain": [
       "0       1\n",
       "1       1\n",
       "2       2\n",
       "3       2\n",
       "4       2\n",
       "       ..\n",
       "1455    1\n",
       "1456    1\n",
       "1457    1\n",
       "1458    1\n",
       "1459    1\n",
       "Name: LotShape, Length: 1460, dtype: int64"
      ]
     },
     "execution_count": 6,
     "metadata": {},
     "output_type": "execute_result"
    }
   ],
   "source": [
    "#Check for LotShape data ['Reg', 'IR1', 'IR2', 'IR3']\n",
    "#Price: Reg<IR1<IR2=IR3\n",
    "mapping3 = {'Reg':1, 'IR1':2, 'IR2':3, 'IR3':4}\n",
    "df['LotShape'] = df['LotShape'].replace(mapping3)\n",
    "df['LotShape']"
   ]
  },
  {
   "cell_type": "code",
   "execution_count": 7,
   "id": "6e1d5ea1",
   "metadata": {
    "execution": {
     "iopub.execute_input": "2024-01-12T06:11:49.070895Z",
     "iopub.status.busy": "2024-01-12T06:11:49.070182Z",
     "iopub.status.idle": "2024-01-12T06:11:49.085234Z",
     "shell.execute_reply": "2024-01-12T06:11:49.083853Z"
    },
    "papermill": {
     "duration": 0.02602,
     "end_time": "2024-01-12T06:11:49.088361",
     "exception": false,
     "start_time": "2024-01-12T06:11:49.062341",
     "status": "completed"
    },
    "tags": []
   },
   "outputs": [
    {
     "data": {
      "text/plain": [
       "0       2\n",
       "1       2\n",
       "2       2\n",
       "3       2\n",
       "4       2\n",
       "       ..\n",
       "1455    2\n",
       "1456    2\n",
       "1457    2\n",
       "1458    2\n",
       "1459    2\n",
       "Name: LandContour, Length: 1460, dtype: int64"
      ]
     },
     "execution_count": 7,
     "metadata": {},
     "output_type": "execute_result"
    }
   ],
   "source": [
    "#Checking for LandContour ['Lvl', 'Bnk', 'HLS', 'Low']\n",
    "#Price: Bnk<Lvl<Low<HLS\n",
    "mapping4 = {'Bnk':1, 'Lvl':2, 'Low':3, 'HLS':4}\n",
    "df['LandContour'] = df['LandContour'].replace(mapping4)\n",
    "df['LandContour']"
   ]
  },
  {
   "cell_type": "code",
   "execution_count": 8,
   "id": "6cc3613a",
   "metadata": {
    "execution": {
     "iopub.execute_input": "2024-01-12T06:11:49.104218Z",
     "iopub.status.busy": "2024-01-12T06:11:49.103485Z",
     "iopub.status.idle": "2024-01-12T06:11:49.115791Z",
     "shell.execute_reply": "2024-01-12T06:11:49.114554Z"
    },
    "papermill": {
     "duration": 0.023431,
     "end_time": "2024-01-12T06:11:49.118553",
     "exception": false,
     "start_time": "2024-01-12T06:11:49.095122",
     "status": "completed"
    },
    "tags": []
   },
   "outputs": [
    {
     "data": {
      "text/plain": [
       "0       1\n",
       "1       1\n",
       "2       1\n",
       "3       1\n",
       "4       1\n",
       "       ..\n",
       "1455    1\n",
       "1456    1\n",
       "1457    1\n",
       "1458    1\n",
       "1459    1\n",
       "Name: Utilities, Length: 1460, dtype: int64"
      ]
     },
     "execution_count": 8,
     "metadata": {},
     "output_type": "execute_result"
    }
   ],
   "source": [
    "#Checking for Utilities column ['Allpub', 'NoSeWa']\n",
    "mapping5 = {'AllPub':1, 'NoSeWa':0}\n",
    "df['Utilities'] = df['Utilities'].replace(mapping5)\n",
    "df['Utilities']"
   ]
  },
  {
   "cell_type": "code",
   "execution_count": 9,
   "id": "be0ca2f2",
   "metadata": {
    "execution": {
     "iopub.execute_input": "2024-01-12T06:11:49.134253Z",
     "iopub.status.busy": "2024-01-12T06:11:49.133815Z",
     "iopub.status.idle": "2024-01-12T06:11:49.290453Z",
     "shell.execute_reply": "2024-01-12T06:11:49.288944Z"
    },
    "papermill": {
     "duration": 0.168136,
     "end_time": "2024-01-12T06:11:49.293477",
     "exception": false,
     "start_time": "2024-01-12T06:11:49.125341",
     "status": "completed"
    },
    "tags": []
   },
   "outputs": [],
   "source": [
    "Mapping_Qual = {'Ex':5, 'Gd':4, 'TA':3, 'Fa':2, 'Po':1, 'NA':0}\n",
    "df['ExterQual'] = df['ExterQual'].replace(Mapping_Qual)\n",
    "df['ExterCond'] = df['ExterCond'].replace(Mapping_Qual)\n",
    "df['BsmtQual'] = df['BsmtQual'].replace(Mapping_Qual)\n",
    "df['BsmtCond'] = df['BsmtCond'].replace(Mapping_Qual)\n",
    "df['HeatingQC'] = df['HeatingQC'].replace(Mapping_Qual)\n",
    "df['KitchenQual'] = df['KitchenQual'].replace(Mapping_Qual)\n",
    "df['FireplaceQu'] = df['FireplaceQu'].replace(Mapping_Qual)\n",
    "df['GarageQual'] = df['GarageQual'].replace(Mapping_Qual)\n",
    "df['GarageCond'] = df['GarageCond'].replace(Mapping_Qual)\n",
    "df['PoolQC'] = df['PoolQC'].replace(Mapping_Qual)\n",
    "Mapping_Exposure = {'Gd':5, 'Av':4, 'Mn':3, 'No':2, 'Na':1}\n",
    "df['BsmtExposure'] = df['BsmtExposure'].replace(Mapping_Exposure)\n",
    "Mapping_Fintype = {'GLQ':7, 'ALQ':6, 'BLQ':5, 'Rec':4, 'LwQ':3, 'Unf':2, 'NA':1}\n",
    "df['BsmtFinType1'] = df['BsmtFinType1'].replace(Mapping_Fintype)\n",
    "df['BsmtFinType2'] = df['BsmtFinType2'].replace(Mapping_Fintype)\n",
    "df.loc[:,'Alley'].fillna(3, inplace=True)\n",
    "df['Alley'] = df['Alley'].replace({'Grvl':1, 'Pave':2})\n",
    "#Price: Inside<Corner<FR2<FR3<CulDSac\n",
    "Mapping_LotConfig = {'Inside':1, 'Corner':2, 'FR2':3, 'FR3':4, 'CulDSac':5}\n",
    "df['LotConfig'] = df['LotConfig'].replace(Mapping_LotConfig)\n",
    "#plt.bar(df['LandSlope'], df['SalePrice'])\n",
    "Mapping_LandSlope = {'Gtl':3, 'Mod':2, 'Sev':1}\n",
    "df['LandSlope'] = df['LandSlope'].replace(Mapping_LandSlope)\n",
    "#plt.figure(figsize=(50,20))\n",
    "#plt.xticks(fontsize=24)\n",
    "#plt.bar(df['Condition2'], df['SalePrice'], width=0.1)\n",
    "#Price: NoRidge>NridgHt>StoneBr>OldTown>Somerst=CollgCr>Veenker>Crawfor>Timber>Gilbert>Sawyer=Edwards=ClearCr>NWAmes>Mitchel>Blmngtn>BrkSide=SWISU>IDOTRR=Blueste=NPkVill>BrDale\n",
    "Mapping_neightb = {'BrDale':1, 'MeadowV':2, 'NPkVill':2, 'Blueste':2, 'IDOTRR':2, 'Sawyer':2, 'SWISU':3, 'BrkSide':3, 'Blmngtn':4, 'Mitchel':5, 'NAmes':6, 'NWAmes':6, 'ClearCr':7, 'Edwards':8, 'SawyerW':8, 'Gilbert':9, 'Timber':10, 'Crawfor':11, 'Veenker':12, 'CollgCr':13, 'Somerst':13, 'OldTown':14, 'StoneBr':15, 'NridgHt':16, 'NoRidge':17}\n",
    "df['Neighborhood'] = df['Neighborhood'].replace(Mapping_neightb)\n",
    "#Price condition:RRAe<RRNe<Feedr<RRNn<PosA<PosN<RRAn<Artery<Norm\n",
    "Mapping_condition1 = {'RRAe':1, 'RRNe':2, 'Feedr':3, 'RRNn':4, 'PosA':5, 'PosN':6, 'RRAn':7, 'Artery':8, 'Norm':9}\n",
    "df['Condition1'] = df['Condition1'].replace(Mapping_condition1)\n",
    "Mapping_condition2 = {'Artery':1, 'RRNn':2, 'RRAn':3, 'Feedr':4, 'RRAe':5, 'PosA':6, 'PosN':7, 'Norm':8}\n",
    "df['Condition2'] = df['Condition2'].replace(Mapping_condition2)\n",
    "#plt.bar(df['HouseStyle'], df['SalePrice'], width=0.1)\n",
    "Mapping_Bldg = {'Duplex':1, '2fmCon':2, 'Twnhs':3, 'TwnhsE':4, '1Fam':5}\n",
    "df['BldgType'] = df['BldgType'].replace(Mapping_Bldg)\n",
    "Mapping_housestyle = {'1.5Unf':1, 'SFoyer':2, '2.5Unf':3, 'SLvl':4, '1.5Fin':5, '2.5Fin':6, '1Story':7, '2Story':8}\n",
    "df['HouseStyle'] = df['HouseStyle'].replace(Mapping_housestyle)\n",
    "#plt.bar(df['MasVnrType'], df['SalePrice'], width=0.1)\n",
    "Mapping_RoofStyle = {'Gambrel':1, 'Mansard':1, 'Flat':1, 'Shed':1, 'Gable':2, 'Hip':2}\n",
    "df['RoofStyle'] = df['RoofStyle'].replace(Mapping_RoofStyle)\n",
    "Mapping_RoofMatl = {'Metal':1, 'Roll':1, 'ClyTile':1, 'WdShake':2, 'Membran':2, 'Tar&Grv':2, 'CompShg':3, 'WdShngl':3}\n",
    "df['RoofMatl'] = df['RoofMatl'].replace(Mapping_RoofMatl)\n",
    "Mapping_exterior1 = {'BrkComm':1, 'AsphShn':1, 'CBlock':1, 'AsbShng':1, 'Stone':2, 'ImStucc':2, 'Stucco':2, 'Plywood':2, 'WdShing':2, 'BrkFace':2, 'MetalSd':2, 'CemntBd':3, 'VinylSd':3, 'Wd Sdng':4, 'HdBoard':4}\n",
    "df['Exterior1st'] = df['Exterior1st'].replace(Mapping_exterior1)\n",
    "Mapping_exterior2 = {'Brk Cmn':1, 'AsphShn':1, 'AsbShng':1, 'Stone':1, 'CBlock':1, 'Other':2, 'Plywood':2,'Wd Shng':2 ,'Wd Sdng':3, 'BrkFace':2, 'Stucco':2, 'MetalSd':2, 'VinylSd':3, 'CmentBd':3, 'HdBoard':3, 'ImStucc':3}\n",
    "df['Exterior2nd'] = df['Exterior2nd'].replace(Mapping_exterior2)\n",
    "df['MasVnrType'].fillna(3, inplace=True)\n",
    "Mapping_MasVnrType = {'BrkFace':3, 'Stone':2, 'BrkCmn':1}\n",
    "df['MasVnrType'] = df['MasVnrType'].replace(Mapping_MasVnrType)\n",
    "df['MasVnrArea'].fillna(0, inplace=True)\n",
    "#plt.bar(df['Foundation'], df['SalePrice'], width=0.1)\n",
    "Mapping_Foundation = {'Wood':1, 'Slab':1, 'Stone':1, 'BrkTil':2, 'CBlock':2, 'PConc':3}\n",
    "df['Foundation'] = df['Foundation'].replace(Mapping_Foundation)\n",
    "df['BsmtQual'].fillna(0, inplace=True)\n",
    "df['BsmtCond'].fillna(0, inplace=True)\n",
    "df['BsmtExposure'].fillna(0, inplace=True)\n",
    "df['BsmtFinType1'].fillna(0, inplace=True)\n",
    "df['BsmtFinType2'].fillna(0, inplace=True)\n",
    "#plt.bar(df['Electrical'], df['SalePrice'], width=0.1)\n",
    "mapping_heating = {'Grav':1, 'Wall':1, 'OthW':1, 'Floor':1, 'GasW':2, 'GasA':3}\n",
    "df['Heating'] = df['Heating'].replace(mapping_heating)\n",
    "df['CentralAir'] = df['CentralAir'].replace({'N':0, 'Y':1})\n",
    "df['Electrical'].fillna('None', inplace=True)\n",
    "#plt.bar(df['Functional'], df['SalePrice'], width=0.1)\n",
    "df['Electrical'] = df['Electrical'].replace({'FuseF':1, 'FuseA':1, 'FuseP':1, 'Mix':1, 'None':1, 'SBrkr':2})\n",
    "df['Functional'] = df['Functional'].replace({'Maj2':1, 'Sev':1, 'Min1':2, 'Maj1':2, 'Min2':2, 'Mod':3, 'Typ':4})\n",
    "df['FireplaceQu'].fillna(0, inplace=True)\n",
    "df['GarageType'].fillna('None', inplace=True)\n",
    "df['GarageType'] = df['GarageType'].replace({'CarPort':1, 'None':1, '2Types':1, 'Basment':1, 'Detchd':2, 'BuiltIn':2, 'Attchd':3})\n",
    "df['GarageFinish'].fillna('None', inplace=True)\n",
    "#plt.bar(df['GarageFinish'], df['SalePrice'], width=0.1)\n",
    "df['GarageFinish'] = df['GarageFinish'].replace({'None':0, 'RFn':1, 'Unf':1, 'Fin':1})\n",
    "df['GarageYrBlt'].fillna(0, inplace=True)\n",
    "df['GarageQual'].fillna(0, inplace=True)\n",
    "df['GarageCond'].fillna(0, inplace=True)\n",
    "#plt.bar(df['PavedDrive'], df['SalePrice'], width=0.1)\n",
    "df['PavedDrive'] = df['PavedDrive'].replace({'Y':1, 'N':0, 'P':0})\n",
    "df['PoolQC'].fillna(0, inplace=True)\n",
    "df['Fence'].fillna('None', inplace=True)\n",
    "#plt.bar(df['Fence'], df['SalePrice'], width=0.1)\n",
    "df['Fence'] = df['Fence'].replace({'GdWo':1, 'GdPrv':1, 'MnWw':1, 'MnPrv':2, 'None':2})\n",
    "df['MiscFeature'].fillna('None', inplace=True)\n",
    "df['MiscFeature'] = df['MiscFeature'].replace({'None':1, 'Shed':0, 'Gar2':0, 'Othr':0, 'TenC':0})\n",
    "#plt.bar(df['SaleCondition'], df['SalePrice'], width=0.1)\n",
    "df['SaleType'] = df['SaleType'].replace({'COD':1, 'ConLD':1, 'CWD':1, 'ConLw':1, 'Con':1, 'Oth':1, 'ConLI':1, 'New':2, 'WD':2})\n",
    "df['SaleCondition'] = df['SaleCondition'].replace({'AdjLand':1, 'Alloca':1, 'Family':1, 'Partial':2, 'Abnorml':2, 'Normal':2})\n",
    "df['MSSubClass'] = df['MSSubClass'].replace({60:3, 20:3, 50:2, 75:2, 120:2, 30:1, 35:1, 40:1, 45:1, 70:1, 80:1, 85:1, 90:1, 160:1, 190:1, 180:1})\n"
   ]
  },
  {
   "cell_type": "code",
   "execution_count": 10,
   "id": "1603ae0c",
   "metadata": {
    "execution": {
     "iopub.execute_input": "2024-01-12T06:11:49.309297Z",
     "iopub.status.busy": "2024-01-12T06:11:49.308851Z",
     "iopub.status.idle": "2024-01-12T06:11:49.329388Z",
     "shell.execute_reply": "2024-01-12T06:11:49.328244Z"
    },
    "papermill": {
     "duration": 0.031914,
     "end_time": "2024-01-12T06:11:49.332242",
     "exception": false,
     "start_time": "2024-01-12T06:11:49.300328",
     "status": "completed"
    },
    "tags": []
   },
   "outputs": [],
   "source": [
    "#Linear regression with 81 features \n",
    "X = df.iloc[:,1:-1]\n",
    "Y = np.log1p(df.iloc[:,-1:])\n",
    "x_train, x_test, y_train, y_test = train_test_split(X, Y, test_size = 0.3, random_state = 42)"
   ]
  },
  {
   "cell_type": "code",
   "execution_count": 11,
   "id": "bb123aad",
   "metadata": {
    "execution": {
     "iopub.execute_input": "2024-01-12T06:11:49.347294Z",
     "iopub.status.busy": "2024-01-12T06:11:49.346902Z",
     "iopub.status.idle": "2024-01-12T06:11:49.557788Z",
     "shell.execute_reply": "2024-01-12T06:11:49.556084Z"
    },
    "papermill": {
     "duration": 0.224401,
     "end_time": "2024-01-12T06:11:49.563305",
     "exception": false,
     "start_time": "2024-01-12T06:11:49.338904",
     "status": "completed"
    },
    "tags": []
   },
   "outputs": [
    {
     "name": "stdout",
     "output_type": "stream",
     "text": [
      "Root Mean Squared Error of linear regression: 0.14253148198571966\n",
      "Root Mean Squared Error of lasso regression: 0.14320569900028804\n",
      "R2 Error of linear regression: 0.880247870039672\n",
      "R2 Error of lasso regression: 0.8791122629136476\n"
     ]
    }
   ],
   "source": [
    "# Create a linear regression model\n",
    "robust_scaler = RobustScaler()\n",
    "x_train_scaled = robust_scaler.fit_transform(x_train)\n",
    "x_test_scaled = robust_scaler.fit_transform(x_test)\n",
    "model_lin = LinearRegression()\n",
    "model_lasso = Lasso(alpha=0.0001, random_state=42)\n",
    "# Train the model on the scaled training set\n",
    "model_lin.fit(x_train_scaled, y_train)\n",
    "model_lasso.fit(x_train_scaled, y_train)\n",
    "\n",
    "# Make predictions on the scaled test set\n",
    "y_pred_lin = model_lin.predict(x_test_scaled)\n",
    "y_pred_lasso = model_lasso.predict(x_test_scaled)\n",
    "\n",
    "# Calculate R2 score\n",
    "mse1 = mean_squared_error(y_test, y_pred_lin)\n",
    "rmse1 = np.sqrt(mse1)\n",
    "mse2 = mean_squared_error(y_test, y_pred_lasso)\n",
    "rmse2 = np.sqrt(mse2)\n",
    "r2_1 = r2_score(y_test, y_pred_lin)\n",
    "r2_2 = r2_score(y_test, y_pred_lasso)\n",
    "\n",
    "print(\"Root Mean Squared Error of linear regression:\", rmse1)\n",
    "print(\"Root Mean Squared Error of lasso regression:\", rmse2)\n",
    "print(\"R2 Error of linear regression:\", r2_1)\n",
    "print(\"R2 Error of lasso regression:\", r2_2)"
   ]
  },
  {
   "cell_type": "code",
   "execution_count": 12,
   "id": "fb4a5a25",
   "metadata": {
    "execution": {
     "iopub.execute_input": "2024-01-12T06:11:49.616856Z",
     "iopub.status.busy": "2024-01-12T06:11:49.616140Z",
     "iopub.status.idle": "2024-01-12T06:11:49.850473Z",
     "shell.execute_reply": "2024-01-12T06:11:49.849084Z"
    },
    "papermill": {
     "duration": 0.269261,
     "end_time": "2024-01-12T06:11:49.853969",
     "exception": false,
     "start_time": "2024-01-12T06:11:49.584708",
     "status": "completed"
    },
    "tags": []
   },
   "outputs": [],
   "source": [
    "#Submission Part\n",
    "mapping5 = {'AllPub':1, 'NoSeWa':0}\n",
    "test['Utilities'] = test['Utilities'].replace(mapping5)\n",
    "mapping4 = {'Bnk':1, 'Lvl':2, 'Low':3, 'HLS':4}\n",
    "test['LandContour'] = test['LandContour'].replace(mapping4)\n",
    "mapping3 = {'Reg':1, 'IR1':2, 'IR2':3, 'IR3':4}\n",
    "test['LotShape'] = test['LotShape'].replace(mapping3)\n",
    "mapping2 = {'Pave':3, 'Grvl':1}\n",
    "test['Street'] = test['Street'].replace(mapping2)\n",
    "mapping1 = {'FV':4, 'RH':3, 'RM':2, 'RL':1, 'C (all)':5}\n",
    "test['MSZoning'] = test['MSZoning'].replace(mapping1)\n",
    "test['LotFrontage'].fillna(test['LotFrontage'].mean(), inplace=True)\n",
    "Mapping_Qual = {'Ex':5, 'Gd':4, 'TA':3, 'Fa':2, 'Po':1, 'NA':0}\n",
    "test['ExterQual'] = test['ExterQual'].replace(Mapping_Qual)\n",
    "test['ExterCond'] = test['ExterCond'].replace(Mapping_Qual)\n",
    "test['BsmtQual'] = test['BsmtQual'].replace(Mapping_Qual)\n",
    "test['BsmtCond'] = test['BsmtCond'].replace(Mapping_Qual)\n",
    "test['HeatingQC'] = test['HeatingQC'].replace(Mapping_Qual)\n",
    "test['KitchenQual'] = test['KitchenQual'].replace(Mapping_Qual)\n",
    "test['FireplaceQu'] = test['FireplaceQu'].replace(Mapping_Qual)\n",
    "test['GarageQual'] = test['GarageQual'].replace(Mapping_Qual)\n",
    "test['GarageCond'] = test['GarageCond'].replace(Mapping_Qual)\n",
    "test['PoolQC'] = test['PoolQC'].replace(Mapping_Qual)\n",
    "Mapping_Exposure = {'Gd':5, 'Av':4, 'Mn':3, 'No':2, 'Na':1}\n",
    "test['BsmtExposure'] = test['BsmtExposure'].replace(Mapping_Exposure)\n",
    "Mapping_Fintype = {'GLQ':7, 'ALQ':6, 'BLQ':5, 'Rec':4, 'LwQ':3, 'Unf':2, 'NA':1}\n",
    "test['BsmtFinType1'] = test['BsmtFinType1'].replace(Mapping_Fintype)\n",
    "test['BsmtFinType2'] = test['BsmtFinType2'].replace(Mapping_Fintype)\n",
    "test.loc[:,'Alley'].fillna(3, inplace=True)\n",
    "test['Alley'] = test['Alley'].replace({'Grvl':1, 'Pave':2})\n",
    "#Price: Inside<Corner<FR2<FR3<CulDSac\n",
    "Mapping_LotConfig = {'Inside':1, 'Corner':2, 'FR2':3, 'FR3':4, 'CulDSac':5}\n",
    "test['LotConfig'] = test['LotConfig'].replace(Mapping_LotConfig)\n",
    "#plt.bar(df['LandSlope'], df['SalePrice'])\n",
    "Mapping_LandSlope = {'Gtl':3, 'Mod':2, 'Sev':1}\n",
    "test['LandSlope'] = test['LandSlope'].replace(Mapping_LandSlope)\n",
    "#plt.figure(figsize=(50,20))\n",
    "#plt.xticks(fontsize=24)\n",
    "#plt.bar(df['Condition2'], df['SalePrice'], width=0.1)\n",
    "#Price: NoRidge>NridgHt>StoneBr>OldTown>Somerst=CollgCr>Veenker>Crawfor>Timber>Gilbert>Sawyer=Edwards=ClearCr>NWAmes>Mitchel>Blmngtn>BrkSide=SWISU>IDOTRR=Blueste=NPkVill>BrDale\n",
    "Mapping_neightb = {'BrDale':1, 'MeadowV':2, 'NPkVill':2, 'Blueste':2, 'IDOTRR':2, 'Sawyer':2, 'SWISU':3, 'BrkSide':3, 'Blmngtn':4, 'Mitchel':5, 'NAmes':6, 'NWAmes':6, 'ClearCr':7, 'Edwards':8, 'SawyerW':8, 'Gilbert':9, 'Timber':10, 'Crawfor':11, 'Veenker':12, 'CollgCr':13, 'Somerst':13, 'OldTown':14, 'StoneBr':15, 'NridgHt':16, 'NoRidge':17}\n",
    "test['Neighborhood'] = test['Neighborhood'].replace(Mapping_neightb)\n",
    "#Price condition:RRAe<RRNe<Feedr<RRNn<PosA<PosN<RRAn<Artery<Norm\n",
    "Mapping_condition1 = {'RRAe':1, 'RRNe':2, 'Feedr':3, 'RRNn':4, 'PosA':5, 'PosN':6, 'RRAn':7, 'Artery':8, 'Norm':9}\n",
    "test['Condition1'] = test['Condition1'].replace(Mapping_condition1)\n",
    "Mapping_condition2 = {'Artery':1, 'RRNn':2, 'RRAn':3, 'Feedr':4, 'RRAe':5, 'PosA':6, 'PosN':7, 'Norm':8}\n",
    "test['Condition2'] = test['Condition2'].replace(Mapping_condition2)\n",
    "#plt.bar(df['HouseStyle'], df['SalePrice'], width=0.1)\n",
    "Mapping_Bldg = {'Duplex':1, '2fmCon':2, 'Twnhs':3, 'TwnhsE':4, '1Fam':5}\n",
    "test['BldgType'] = test['BldgType'].replace(Mapping_Bldg)\n",
    "Mapping_housestyle = {'1.5Unf':1, 'SFoyer':2, '2.5Unf':3, 'SLvl':4, '1.5Fin':5, '2.5Fin':6, '1Story':7, '2Story':8}\n",
    "test['HouseStyle'] = test['HouseStyle'].replace(Mapping_housestyle)\n",
    "#plt.bar(df['MasVnrType'], df['SalePrice'], width=0.1)\n",
    "Mapping_RoofStyle = {'Gambrel':1, 'Mansard':1, 'Flat':1, 'Shed':1, 'Gable':2, 'Hip':2}\n",
    "test['RoofStyle'] = test['RoofStyle'].replace(Mapping_RoofStyle)\n",
    "Mapping_RoofMatl = {'Metal':1, 'Roll':1, 'ClyTile':1, 'WdShake':2, 'Membran':2, 'Tar&Grv':2, 'CompShg':3, 'WdShngl':3}\n",
    "test['RoofMatl'] = test['RoofMatl'].replace(Mapping_RoofMatl)\n",
    "Mapping_exterior1 = {'BrkComm':1, 'AsphShn':1, 'CBlock':1, 'AsbShng':1, 'Stone':2, 'ImStucc':2, 'Stucco':2, 'Plywood':2, 'WdShing':2, 'BrkFace':2, 'MetalSd':2, 'CemntBd':3, 'VinylSd':3, 'Wd Sdng':4, 'HdBoard':4}\n",
    "test['Exterior1st'] = test['Exterior1st'].replace(Mapping_exterior1)\n",
    "Mapping_exterior2 = {'Brk Cmn':1, 'AsphShn':1, 'AsbShng':1, 'Stone':1, 'CBlock':1, 'Other':2, 'Plywood':2,'Wd Shng':2 ,'Wd Sdng':3, 'BrkFace':2, 'Stucco':2, 'MetalSd':2, 'VinylSd':3, 'CmentBd':3, 'HdBoard':3, 'ImStucc':3}\n",
    "test['Exterior2nd'] = test['Exterior2nd'].replace(Mapping_exterior2)\n",
    "test['MasVnrType'].fillna(3, inplace=True)\n",
    "Mapping_MasVnrType = {'BrkFace':3, 'Stone':2, 'BrkCmn':1}\n",
    "test['MasVnrType'] = test['MasVnrType'].replace(Mapping_MasVnrType)\n",
    "test['MasVnrArea'].fillna(0, inplace=True)\n",
    "#plt.bar(df['Foundation'], df['SalePrice'], width=0.1)\n",
    "Mapping_Foundation = {'Wood':1, 'Slab':1, 'Stone':1, 'BrkTil':2, 'CBlock':2, 'PConc':3}\n",
    "test['Foundation'] = test['Foundation'].replace(Mapping_Foundation)\n",
    "test['BsmtQual'].fillna(0, inplace=True)\n",
    "test['BsmtCond'].fillna(0, inplace=True)\n",
    "test['BsmtExposure'].fillna(0, inplace=True)\n",
    "test['BsmtFinType1'].fillna(0, inplace=True)\n",
    "test['BsmtFinType2'].fillna(0, inplace=True)\n",
    "#plt.bar(df['Electrical'], df['SalePrice'], width=0.1)\n",
    "mapping_heating = {'Grav':1, 'Wall':1, 'OthW':1, 'Floor':1, 'GasW':2, 'GasA':3}\n",
    "test['Heating'] = test['Heating'].replace(mapping_heating)\n",
    "test['CentralAir'] = test['CentralAir'].replace({'N':0, 'Y':1})\n",
    "test['Electrical'].fillna('None', inplace=True)\n",
    "#plt.bar(df['Functional'], df['SalePrice'], width=0.1)\n",
    "test['Electrical'] = test['Electrical'].replace({'FuseF':1, 'FuseA':1, 'FuseP':1, 'Mix':1, 'None':1, 'SBrkr':2})\n",
    "test['Functional'] = test['Functional'].replace({'Maj2':1, 'Sev':1, 'Min1':2, 'Maj1':2, 'Min2':2, 'Mod':3, 'Typ':4})\n",
    "test['FireplaceQu'].fillna(0, inplace=True)\n",
    "test['GarageType'].fillna('None', inplace=True)\n",
    "test['GarageType'] = test['GarageType'].replace({'CarPort':1, 'None':1, '2Types':1, 'Basment':1, 'Detchd':2, 'BuiltIn':2, 'Attchd':3})\n",
    "test['GarageFinish'].fillna('None', inplace=True)\n",
    "#plt.bar(df['GarageFinish'], df['SalePrice'], width=0.1)\n",
    "test['GarageFinish'] = test['GarageFinish'].replace({'None':0, 'RFn':1, 'Unf':1, 'Fin':1})\n",
    "test['GarageYrBlt'].fillna(0, inplace=True)\n",
    "test['GarageQual'].fillna(0, inplace=True)\n",
    "test['GarageCond'].fillna(0, inplace=True)\n",
    "#plt.bar(df['PavedDrive'], df['SalePrice'], width=0.1)\n",
    "test['PavedDrive'] = test['PavedDrive'].replace({'Y':1, 'N':0, 'P':0})\n",
    "test['PoolQC'].fillna(0, inplace=True)\n",
    "test['Fence'].fillna('None', inplace=True)\n",
    "#plt.bar(df['Fence'], df['SalePrice'], width=0.1)\n",
    "test['Fence'] = test['Fence'].replace({'GdWo':1, 'GdPrv':1, 'MnWw':1, 'MnPrv':2, 'None':2})\n",
    "test['MiscFeature'].fillna('None', inplace=True)\n",
    "test['MiscFeature'] = test['MiscFeature'].replace({'None':1, 'Shed':0, 'Gar2':0, 'Othr':0, 'TenC':0})\n",
    "#plt.bar(df['SaleCondition'], df['SalePrice'], width=0.1)\n",
    "test['SaleType'] = test['SaleType'].replace({'COD':1, 'ConLD':1, 'CWD':1, 'ConLw':1, 'Con':1, 'Oth':1, 'ConLI':1, 'New':2, 'WD':2})\n",
    "test['SaleCondition'] = test['SaleCondition'].replace({'AdjLand':1, 'Alloca':1, 'Family':1, 'Partial':2, 'Abnorml':2, 'Normal':2})\n",
    "test['MSSubClass'] = test['MSSubClass'].replace({60:3, 20:3, 50:2, 75:2, 120:2, 30:1, 35:1, 40:1, 45:1, 70:1, 80:1, 85:1, 90:1, 160:1, 190:1, 180:1})\n",
    "test['MSZoning'].fillna(test['MSZoning'].mean(), inplace=True)\n",
    "test['Utilities'].fillna(test['Utilities'].mean(), inplace=True)\n",
    "test['Exterior1st'].fillna(test['Exterior1st'].mean(), inplace=True)\n",
    "test['Exterior2nd'].fillna(test['Exterior2nd'].mean(), inplace=True)\n",
    "test['BsmtFinSF1'].fillna(test['BsmtFinSF1'].mean(), inplace=True)\n",
    "test['BsmtFinSF2'].fillna(test['BsmtFinSF2'].mean(), inplace=True)\n",
    "test.fillna(test.mean(), inplace=True)"
   ]
  },
  {
   "cell_type": "code",
   "execution_count": 13,
   "id": "9d1e1fa6",
   "metadata": {
    "execution": {
     "iopub.execute_input": "2024-01-12T06:11:49.869890Z",
     "iopub.status.busy": "2024-01-12T06:11:49.869439Z",
     "iopub.status.idle": "2024-01-12T06:11:49.937081Z",
     "shell.execute_reply": "2024-01-12T06:11:49.935542Z"
    },
    "papermill": {
     "duration": 0.080551,
     "end_time": "2024-01-12T06:11:49.941648",
     "exception": false,
     "start_time": "2024-01-12T06:11:49.861097",
     "status": "completed"
    },
    "tags": []
   },
   "outputs": [
    {
     "name": "stderr",
     "output_type": "stream",
     "text": [
      "/tmp/ipykernel_20/402812023.py:6: SettingWithCopyWarning: \n",
      "A value is trying to be set on a copy of a slice from a DataFrame.\n",
      "Try using .loc[row_indexer,col_indexer] = value instead\n",
      "\n",
      "See the caveats in the documentation: https://pandas.pydata.org/pandas-docs/stable/user_guide/indexing.html#returning-a-view-versus-a-copy\n",
      "  submission['SalePrice'] = np.expm1(y_submission)\n"
     ]
    }
   ],
   "source": [
    "#Submission\n",
    "submission = test[['Id']]\n",
    "test.drop('Id', axis=1, inplace=True)\n",
    "test_scaled = robust_scaler.fit_transform(test)\n",
    "y_submission = model_lasso.predict(test_scaled)\n",
    "submission['SalePrice'] = np.expm1(y_submission)\n",
    "submission.to_csv(\"LassoReg_Encoding.csv\", index=False)"
   ]
  },
  {
   "cell_type": "code",
   "execution_count": null,
   "id": "d5234b34",
   "metadata": {
    "papermill": {
     "duration": 0.013757,
     "end_time": "2024-01-12T06:11:49.969601",
     "exception": false,
     "start_time": "2024-01-12T06:11:49.955844",
     "status": "completed"
    },
    "tags": []
   },
   "outputs": [],
   "source": []
  }
 ],
 "metadata": {
  "kaggle": {
   "accelerator": "none",
   "dataSources": [
    {
     "datasetId": 4204974,
     "sourceId": 7256438,
     "sourceType": "datasetVersion"
    }
   ],
   "dockerImageVersionId": 30626,
   "isGpuEnabled": false,
   "isInternetEnabled": true,
   "language": "python",
   "sourceType": "notebook"
  },
  "kernelspec": {
   "display_name": "Python 3",
   "language": "python",
   "name": "python3"
  },
  "language_info": {
   "codemirror_mode": {
    "name": "ipython",
    "version": 3
   },
   "file_extension": ".py",
   "mimetype": "text/x-python",
   "name": "python",
   "nbconvert_exporter": "python",
   "pygments_lexer": "ipython3",
   "version": "3.10.12"
  },
  "papermill": {
   "default_parameters": {},
   "duration": 9.737494,
   "end_time": "2024-01-12T06:11:50.714196",
   "environment_variables": {},
   "exception": null,
   "input_path": "__notebook__.ipynb",
   "output_path": "__notebook__.ipynb",
   "parameters": {},
   "start_time": "2024-01-12T06:11:40.976702",
   "version": "2.4.0"
  }
 },
 "nbformat": 4,
 "nbformat_minor": 5
}
